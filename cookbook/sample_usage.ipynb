{
 "cells": [
  {
   "cell_type": "code",
   "execution_count": 1,
   "id": "bb1d7066",
   "metadata": {},
   "outputs": [
    {
     "name": "stderr",
     "output_type": "stream",
     "text": [
      "2025-05-02 02:29:24.051323: E external/local_xla/xla/stream_executor/cuda/cuda_fft.cc:467] Unable to register cuFFT factory: Attempting to register factory for plugin cuFFT when one has already been registered\n",
      "WARNING: All log messages before absl::InitializeLog() is called are written to STDERR\n",
      "E0000 00:00:1746124164.076088    6327 cuda_dnn.cc:8579] Unable to register cuDNN factory: Attempting to register factory for plugin cuDNN when one has already been registered\n",
      "E0000 00:00:1746124164.083027    6327 cuda_blas.cc:1407] Unable to register cuBLAS factory: Attempting to register factory for plugin cuBLAS when one has already been registered\n",
      "W0000 00:00:1746124164.102360    6327 computation_placer.cc:177] computation placer already registered. Please check linkage and avoid linking the same target more than once.\n",
      "W0000 00:00:1746124164.102395    6327 computation_placer.cc:177] computation placer already registered. Please check linkage and avoid linking the same target more than once.\n",
      "W0000 00:00:1746124164.102399    6327 computation_placer.cc:177] computation placer already registered. Please check linkage and avoid linking the same target more than once.\n",
      "W0000 00:00:1746124164.102403    6327 computation_placer.cc:177] computation placer already registered. Please check linkage and avoid linking the same target more than once.\n",
      "2025-05-02 02:29:24.110046: I tensorflow/core/platform/cpu_feature_guard.cc:210] This TensorFlow binary is optimized to use available CPU instructions in performance-critical operations.\n",
      "To enable the following instructions: AVX2 FMA, in other operations, rebuild TensorFlow with the appropriate compiler flags.\n",
      "/home/ainz/Code/biasx/.venv/lib/python3.11/site-packages/tqdm/auto.py:21: TqdmWarning: IProgress not found. Please update jupyter and ipywidgets. See https://ipywidgets.readthedocs.io/en/stable/user_install.html\n",
      "  from .autonotebook import tqdm as notebook_tqdm\n"
     ]
    }
   ],
   "source": [
    "from biasx import BiasAnalyzer"
   ]
  },
  {
   "cell_type": "code",
   "execution_count": 2,
   "id": "8a9fcc0d",
   "metadata": {},
   "outputs": [],
   "source": [
    "config = {\n",
    "    \"model\": {\n",
    "        \"path\": \"/home/ainz/Code/biasx/identiface.h5\",\n",
    "        \"inverted_classes\": True,\n",
    "    },\n",
    "    \"dataset\": {\n",
    "        \"max_samples\": 100,\n",
    "        \"image_width\": 48,\n",
    "        \"image_height\": 48,\n",
    "        \"color_mode\": \"L\",\n",
    "    },\n",
    "}"
   ]
  },
  {
   "cell_type": "code",
   "execution_count": 3,
   "id": "9935ec8e",
   "metadata": {},
   "outputs": [
    {
     "name": "stderr",
     "output_type": "stream",
     "text": [
      "/home/ainz/Code/biasx/.venv/lib/python3.11/site-packages/keras/src/layers/convolutional/base_conv.py:107: UserWarning: Do not pass an `input_shape`/`input_dim` argument to a layer. When using Sequential models, prefer using an `Input(shape)` object as the first layer in the model instead.\n",
      "  super().__init__(activity_regularizer=activity_regularizer, **kwargs)\n",
      "2025-05-02 02:31:00.887295: E external/local_xla/xla/stream_executor/cuda/cuda_platform.cc:51] failed call to cuInit: INTERNAL: CUDA error: Failed call to cuInit: UNKNOWN ERROR (303)\n",
      "WARNING:absl:Compiled the loaded model, but the compiled metrics have yet to be built. `model.compile_metrics` will be empty until you train or evaluate the model.\n",
      "WARNING:absl:Error in loading the saved optimizer state. As a result, your model is starting with a freshly initialized optimizer.\n",
      "WARNING: All log messages before absl::InitializeLog() is called are written to STDERR\n",
      "I0000 00:00:1746124262.115724    6327 task_runner.cc:85] GPU suport is not available: INTERNAL: ; RET_CHECK failure (mediapipe/gpu/gl_context_egl.cc:77) display != EGL_NO_DISPLAYeglGetDisplay() returned error 0x300c\n",
      "W0000 00:00:1746124262.116028    6327 face_landmarker_graph.cc:174] Sets FaceBlendshapesGraph acceleration to xnnpack by default.\n",
      "INFO: Created TensorFlow Lite XNNPACK delegate for CPU.\n",
      "W0000 00:00:1746124262.121297    6598 inference_feedback_manager.cc:114] Feedback manager requires a model with a single signature inference. Disabling support for feedback tensors.\n",
      "W0000 00:00:1746124262.138092    6598 inference_feedback_manager.cc:114] Feedback manager requires a model with a single signature inference. Disabling support for feedback tensors.\n"
     ]
    }
   ],
   "source": [
    "analyzer = BiasAnalyzer(config=config)"
   ]
  },
  {
   "cell_type": "code",
   "execution_count": 4,
   "id": "6e5775c3",
   "metadata": {},
   "outputs": [],
   "source": [
    "results = analyzer.analyze()"
   ]
  },
  {
   "cell_type": "code",
   "execution_count": 5,
   "id": "7daa0f91",
   "metadata": {},
   "outputs": [
    {
     "name": "stdout",
     "output_type": "stream",
     "text": [
      "Equalized Odds: 0.338\n",
      "BiasX Score: 0.281\n"
     ]
    }
   ],
   "source": [
    "print(f\"Equalized Odds: {results.disparity_scores.equalized_odds}\")\n",
    "print(f\"BiasX Score: {results.disparity_scores.biasx}\")"
   ]
  },
  {
   "cell_type": "code",
   "execution_count": 6,
   "id": "404752c6",
   "metadata": {},
   "outputs": [
    {
     "name": "stdout",
     "output_type": "stream",
     "text": [
      "======== FacialFeature.LEFT_EYE ========\n",
      "Bias Score: 0.141\n",
      "Male Probability: 0.333\n",
      "Female Probability: 0.474\n",
      "\n",
      "======== FacialFeature.RIGHT_EYE ========\n",
      "Bias Score: 0.632\n",
      "Male Probability: 1.0\n",
      "Female Probability: 0.368\n",
      "\n",
      "======== FacialFeature.NOSE ========\n",
      "Bias Score: 0.562\n",
      "Male Probability: 0.667\n",
      "Female Probability: 0.105\n",
      "\n",
      "======== FacialFeature.LIPS ========\n",
      "Bias Score: 0.122\n",
      "Male Probability: 0.333\n",
      "Female Probability: 0.211\n",
      "\n",
      "======== FacialFeature.LEFT_CHEEK ========\n",
      "Bias Score: 0.105\n",
      "Male Probability: 0.0\n",
      "Female Probability: 0.105\n",
      "\n",
      "======== FacialFeature.RIGHT_CHEEK ========\n",
      "Bias Score: 0.299\n",
      "Male Probability: 0.667\n",
      "Female Probability: 0.368\n",
      "\n",
      "======== FacialFeature.CHIN ========\n",
      "Bias Score: 0.263\n",
      "Male Probability: 0.0\n",
      "Female Probability: 0.263\n",
      "\n",
      "======== FacialFeature.FOREHEAD ========\n",
      "Bias Score: 0.122\n",
      "Male Probability: 0.333\n",
      "Female Probability: 0.211\n",
      "\n"
     ]
    }
   ],
   "source": [
    "for feature, analyses in results.feature_analyses.items():\n",
    "    print(f\"======== {feature} ========\")\n",
    "    print(f\"Bias Score: {analyses.bias_score}\")\n",
    "    print(f\"Male Probability: {analyses.male_probability}\")\n",
    "    print(f\"Female Probability: {analyses.female_probability}\")\n",
    "    print()"
   ]
  }
 ],
 "metadata": {
  "kernelspec": {
   "display_name": ".venv",
   "language": "python",
   "name": "python3"
  },
  "language_info": {
   "codemirror_mode": {
    "name": "ipython",
    "version": 3
   },
   "file_extension": ".py",
   "mimetype": "text/x-python",
   "name": "python",
   "nbconvert_exporter": "python",
   "pygments_lexer": "ipython3",
   "version": "3.11.12"
  }
 },
 "nbformat": 4,
 "nbformat_minor": 5
}
