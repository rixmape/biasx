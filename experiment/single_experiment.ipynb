{
 "cells": [
  {
   "cell_type": "code",
   "execution_count": null,
   "metadata": {},
   "outputs": [],
   "source": [
    "from config import Config, CoreConfig, DatasetConfig, ModelConfig, OutputConfig\n",
    "from datatypes import DatasetSource, Feature, Gender, OutputLevel\n",
    "from runner import ExperimentRunner\n",
    "\n",
    "cfg = Config(\n",
    "    core=CoreConfig(\n",
    "        target_male_proportion=0.5,\n",
    "        mask_gender=Gender.FEMALE,\n",
    "        mask_features=[Feature.LEFT_EYE, Feature.RIGHT_EYE],\n",
    "        mask_pixel_padding=5,\n",
    "        random_seed=123,\n",
    "    ),\n",
    "    dataset=DatasetConfig(\n",
    "        source_name=DatasetSource.UTKFACE,\n",
    "        target_size=2000,\n",
    "        validation_ratio=0.1,\n",
    "        test_ratio=0.2,\n",
    "        image_size=48,\n",
    "        use_grayscale=False,\n",
    "    ),\n",
    "    model=ModelConfig(\n",
    "        batch_size=32,\n",
    "        epochs=15,\n",
    "    ),\n",
    "    output=OutputConfig(base_path=\"outputs\", log_path=\"logs\", level=OutputLevel.FULL),\n",
    ")\n",
    "\n",
    "print(f\"Initializing experiment runner for experiment ID: {cfg.experiment_id}\")\n",
    "runner = ExperimentRunner(config=cfg)\n",
    "\n",
    "print(\"Starting experiment run...\")\n",
    "experiment_result = runner.run_experiment()\n",
    "\n",
    "print(f\"\\nExperiment {experiment_result.id} completed.\")\n",
    "if experiment_result.analysis:\n",
    "    print(\"Bias Analysis Summary:\")\n",
    "    if experiment_result.analysis.bias_metrics:\n",
    "        print(f\"- Demographic Parity: {experiment_result.analysis.bias_metrics.demographic_parity:.4f}\")\n",
    "        print(f\"- Equalized Odds: {experiment_result.analysis.bias_metrics.equalized_odds:.4f}\")\n",
    "    if experiment_result.analysis.male_performance_metrics:\n",
    "        print(f\"- Male TPR: {experiment_result.analysis.male_performance_metrics.tpr:.4f}\")\n",
    "    if experiment_result.analysis.female_performance_metrics:\n",
    "        print(f\"- Female TPR: {experiment_result.analysis.female_performance_metrics.tpr:.4f}\")\n",
    "\n",
    "print(f\"\\nResults and artifacts saved in: {cfg.output.base_path}\")\n",
    "print(f\"Logs saved in: {cfg.output.log_path}\")"
   ]
  }
 ],
 "metadata": {
  "kernelspec": {
   "display_name": ".venv",
   "language": "python",
   "name": "python3"
  },
  "language_info": {
   "codemirror_mode": {
    "name": "ipython",
    "version": 3
   },
   "file_extension": ".py",
   "mimetype": "text/x-python",
   "name": "python",
   "nbconvert_exporter": "python",
   "pygments_lexer": "ipython3",
   "version": "3.12.3"
  }
 },
 "nbformat": 4,
 "nbformat_minor": 2
}
