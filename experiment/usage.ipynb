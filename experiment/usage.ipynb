{
 "cells": [
  {
   "cell_type": "markdown",
   "metadata": {},
   "source": [
    "## Bias Analysis Experiments"
   ]
  },
  {
   "cell_type": "code",
   "execution_count": null,
   "metadata": {},
   "outputs": [],
   "source": [
    "from config import CoreConfig, DatasetConfig, Config\n",
    "from datatypes import DatasetSource, Feature, Gender\n",
    "from runner import ExperimentRunner"
   ]
  },
  {
   "cell_type": "markdown",
   "metadata": {},
   "source": [
    "### Dataset Condition: Manipulated Gender Distribution"
   ]
  },
  {
   "cell_type": "code",
   "execution_count": null,
   "metadata": {},
   "outputs": [],
   "source": [
    "target_proportions = [0.3, 0.5, 0.7]\n",
    "\n",
    "experiment_ids = []\n",
    "\n",
    "for target_proportion in target_proportions:\n",
    "    core_config = CoreConfig(\n",
    "        target_male_proportion=target_proportion,\n",
    "        key_feature_threshold=0.3,\n",
    "    )\n",
    "\n",
    "    dataset_config = DatasetConfig(\n",
    "        source_name=DatasetSource.UTKFACE,\n",
    "        target_size=3000,\n",
    "        image_size=64,\n",
    "        use_grayscale=False,\n",
    "    )\n",
    "\n",
    "    config = Config(core=core_config, dataset=dataset_config)\n",
    "\n",
    "    runner = ExperimentRunner(config)\n",
    "    runner.run_experiment()\n",
    "    experiment_ids.append(config.experiment_id)\n",
    "\n",
    "\n",
    "experiment_ids"
   ]
  },
  {
   "cell_type": "code",
   "execution_count": null,
   "metadata": {},
   "outputs": [],
   "source": []
  }
 ],
 "metadata": {
  "kernelspec": {
   "display_name": ".venv",
   "language": "python",
   "name": "python3"
  },
  "language_info": {
   "codemirror_mode": {
    "name": "ipython",
    "version": 3
   },
   "file_extension": ".py",
   "mimetype": "text/x-python",
   "name": "python",
   "nbconvert_exporter": "python",
   "pygments_lexer": "ipython3",
   "version": "3.12.3"
  }
 },
 "nbformat": 4,
 "nbformat_minor": 2
}
