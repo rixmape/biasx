{
 "cells": [
  {
   "cell_type": "code",
   "execution_count": null,
   "metadata": {},
   "outputs": [],
   "source": [
    "from config import Config\n",
    "from runner import ExperimentRunner\n",
    "\n",
    "config = Config(\n",
    "    replicate=1,\n",
    "    male_ratios=[0.5],\n",
    "    mask_features=None,\n",
    "    mask_genders=None,\n",
    "    feature_attention_threshold=0.3,\n",
    "    epochs=3,\n",
    ")\n",
    "\n",
    "runner = ExperimentRunner(config)\n",
    "runner.run_all_experiments()"
   ]
  }
 ],
 "metadata": {
  "kernelspec": {
   "display_name": ".venv",
   "language": "python",
   "name": "python3"
  },
  "language_info": {
   "codemirror_mode": {
    "name": "ipython",
    "version": 3
   },
   "file_extension": ".py",
   "mimetype": "text/x-python",
   "name": "python",
   "nbconvert_exporter": "python",
   "pygments_lexer": "ipython3",
   "version": "3.12.3"
  }
 },
 "nbformat": 4,
 "nbformat_minor": 2
}
