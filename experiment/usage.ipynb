{
 "cells": [
  {
   "cell_type": "code",
   "execution_count": null,
   "metadata": {},
   "outputs": [],
   "source": [
    "from config import Config\n",
    "from runner import ExperimentRunner\n",
    "\n",
    "config = Config(\n",
    "    replicate=1,\n",
    "    male_ratios=[0.5],\n",
    "    mask_features=[[\"left_eye\", \"right_eye\"]],\n",
    "    mask_genders=[0],\n",
    "    feature_attention_threshold=0.3,\n",
    "    dataset_size=3000,\n",
    "    image_size=64,\n",
    "    grayscale=False,  # For better landmark detection\n",
    "    save_test_dataset=True,\n",
    "    save_val_dataset=True,\n",
    "    save_train_dataset=True,\n",
    "    epochs=3,\n",
    ")\n",
    "\n",
    "runner = ExperimentRunner(config)\n",
    "runner.run_all_experiments()"
   ]
  }
 ],
 "metadata": {
  "kernelspec": {
   "display_name": ".venv",
   "language": "python",
   "name": "python3"
  },
  "language_info": {
   "codemirror_mode": {
    "name": "ipython",
    "version": 3
   },
   "file_extension": ".py",
   "mimetype": "text/x-python",
   "name": "python",
   "nbconvert_exporter": "python",
   "pygments_lexer": "ipython3",
   "version": "3.12.3"
  }
 },
 "nbformat": 4,
 "nbformat_minor": 2
}
