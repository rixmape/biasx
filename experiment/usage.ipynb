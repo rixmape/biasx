{
 "cells": [
  {
   "cell_type": "code",
   "execution_count": 1,
   "metadata": {},
   "outputs": [
    {
     "name": "stderr",
     "output_type": "stream",
     "text": [
      "2025-04-02 18:09:06.160222: E external/local_xla/xla/stream_executor/cuda/cuda_fft.cc:477] Unable to register cuFFT factory: Attempting to register factory for plugin cuFFT when one has already been registered\n",
      "WARNING: All log messages before absl::InitializeLog() is called are written to STDERR\n",
      "E0000 00:00:1743588546.171899  159364 cuda_dnn.cc:8310] Unable to register cuDNN factory: Attempting to register factory for plugin cuDNN when one has already been registered\n",
      "E0000 00:00:1743588546.175113  159364 cuda_blas.cc:1418] Unable to register cuBLAS factory: Attempting to register factory for plugin cuBLAS when one has already been registered\n",
      "2025-04-02 18:09:06.188436: I tensorflow/core/platform/cpu_feature_guard.cc:210] This TensorFlow binary is optimized to use available CPU instructions in performance-critical operations.\n",
      "To enable the following instructions: AVX2 FMA, in other operations, rebuild TensorFlow with the appropriate compiler flags.\n"
     ]
    },
    {
     "name": "stdout",
     "output_type": "stream",
     "text": [
      "\u001b[34;20m2025-04-02 18:09:10,479 - [fe5a1d914e8118ea] feature_masker - INFO - Completed loading landmark detection model (masker.py:43)\u001b[0m\n"
     ]
    },
    {
     "name": "stderr",
     "output_type": "stream",
     "text": [
      "libEGL warning: DRI3: Screen seems not DRI3 capable\n",
      "libEGL warning: DRI3: Screen seems not DRI3 capable\n",
      "MESA: error: ZINK: failed to choose pdev\n",
      "libEGL warning: egl: failed to create dri2 screen\n",
      "WARNING: All log messages before absl::InitializeLog() is called are written to STDERR\n",
      "I0000 00:00:1743588550.436282  159364 gl_context_egl.cc:85] Successfully initialized EGL. Major : 1 Minor: 5\n",
      "I0000 00:00:1743588550.453753  159453 gl_context.cc:369] GL version: 3.1 (OpenGL ES 3.1 Mesa 24.2.8-1ubuntu1~24.04.1), renderer: D3D12 (AMD Radeon(TM) Graphics)\n",
      "W0000 00:00:1743588550.454146  159364 face_landmarker_graph.cc:174] Sets FaceBlendshapesGraph acceleration to xnnpack by default.\n",
      "INFO: Created TensorFlow Lite XNNPACK delegate for CPU.\n",
      "W0000 00:00:1743588550.459984  159456 inference_feedback_manager.cc:114] Feedback manager requires a model with a single signature inference. Disabling support for feedback tensors.\n",
      "W0000 00:00:1743588550.476108  159457 inference_feedback_manager.cc:114] Feedback manager requires a model with a single signature inference. Disabling support for feedback tensors.\n"
     ]
    },
    {
     "name": "stdout",
     "output_type": "stream",
     "text": [
      "\u001b[34;20m2025-04-02 18:09:10,761 - [fe5a1d914e8118ea] feature_masker - INFO - Completed loading feature indices map (masker.py:62)\u001b[0m\n",
      "\u001b[34;20m2025-04-02 18:09:10,762 - [fe5a1d914e8118ea] feature_masker - INFO - Completed feature masker initialization (masker.py:25)\u001b[0m\n",
      "\u001b[34;20m2025-04-02 18:09:10,763 - [fe5a1d914e8118ea] dataset_generator - INFO - Completed dataset generator initialization (dataset.py:21)\u001b[0m\n",
      "\u001b[34;20m2025-04-02 18:09:10,764 - [fe5a1d914e8118ea] visual_explainer - INFO - Completed visual explainer initialization (explainer.py:23)\u001b[0m\n",
      "\u001b[34;20m2025-04-02 18:09:10,765 - [fe5a1d914e8118ea] bias_analyzer - INFO - Completed bias analyzer initialization (analyzer.py:15)\u001b[0m\n",
      "\u001b[34;20m2025-04-02 18:09:10,766 - [fe5a1d914e8118ea] runner - INFO - Completed experiment runner initialization (runner.py:46)\u001b[0m\n",
      "\u001b[34;20m2025-04-02 18:09:10,767 - [fe5a1d914e8118ea] runner - INFO - Starting experiment run (runner.py:173)\u001b[0m\n",
      "\u001b[34;20m2025-04-02 18:09:10,767 - [fe5a1d914e8118ea] dataset_generator - INFO - Starting Dataset Preparation for Exp 'fe5a1d914e8118ea' (dataset.py:199)\u001b[0m\n",
      "\u001b[34;20m2025-04-02 18:09:10,768 - [fe5a1d914e8118ea] dataset_generator - INFO - Downloading utkface dataset. (dataset.py:24)\u001b[0m\n",
      "\u001b[34;20m2025-04-02 18:09:11,350 - [fe5a1d914e8118ea] dataset_generator - INFO - Raw dataset loaded: 23705 rows. (dataset.py:27)\u001b[0m\n",
      "\u001b[34;20m2025-04-02 18:09:11,366 - [fe5a1d914e8118ea] dataset_generator - INFO - Processed dataset: 20487 rows remaining after filtering. (dataset.py:39)\u001b[0m\n",
      "\u001b[34;20m2025-04-02 18:09:11,375 - [fe5a1d914e8118ea] dataset_generator - INFO - Found 35 unique strata for sampling. (dataset.py:81)\u001b[0m\n",
      "\u001b[34;20m2025-04-02 18:09:11,380 - [fe5a1d914e8118ea] dataset_generator - INFO - Targeting 1000 from 10853 available male images. (dataset.py:64)\u001b[0m\n",
      "\u001b[34;20m2025-04-02 18:09:11,400 - [fe5a1d914e8118ea] dataset_generator - INFO - Targeting 1000 from 9634 available female images. (dataset.py:64)\u001b[0m\n",
      "\u001b[34;20m2025-04-02 18:09:11,415 - [fe5a1d914e8118ea] dataset_generator - INFO - Sampling complete. Final dataset size: 2005 (100.2% of target 2000). (dataset.py:99)\u001b[0m\n",
      "\u001b[34;20m2025-04-02 18:09:11,416 - [fe5a1d914e8118ea] dataset_generator - INFO - Splitting dataset into train, validation, and test sets. (dataset.py:185)\u001b[0m\n",
      "\u001b[34;20m2025-04-02 18:09:11,421 - [fe5a1d914e8118ea] dataset_generator - INFO - Actual splits: train=1403, validation=201, test=401. (dataset.py:191)\u001b[0m\n",
      "\u001b[34;20m2025-04-02 18:09:11,422 - [fe5a1d914e8118ea] dataset_generator - INFO - Creating DatasetSplit.TRAIN from 1403 samples. (dataset.py:171)\u001b[0m\n"
     ]
    },
    {
     "name": "stderr",
     "output_type": "stream",
     "text": [
      "I0000 00:00:1743588551.758580  159364 gpu_device.cc:2022] Created device /job:localhost/replica:0/task:0/device:GPU:0 with 1767 MB memory:  -> device: 0, name: NVIDIA GeForce RTX 3050 Laptop GPU, pci bus id: 0000:01:00.0, compute capability: 8.6\n"
     ]
    },
    {
     "name": "stdout",
     "output_type": "stream",
     "text": [
      "\u001b[33;20m2025-04-02 18:09:13,375 - [fe5a1d914e8118ea] feature_masker - WARNING - [364ed162] Skipping masking: no landmarks found (masker.py:160)\u001b[0m\n",
      "\u001b[33;20m2025-04-02 18:09:14,674 - [fe5a1d914e8118ea] feature_masker - WARNING - [9cc2ce90] Skipping masking: no landmarks found (masker.py:160)\u001b[0m\n",
      "\u001b[33;20m2025-04-02 18:09:18,458 - [fe5a1d914e8118ea] feature_masker - WARNING - [9e895700] Skipping masking: no landmarks found (masker.py:160)\u001b[0m\n",
      "\u001b[34;20m2025-04-02 18:09:23,712 - [fe5a1d914e8118ea] dataset_generator - INFO - Saved 1403 images for DatasetSplit.TRAIN to outputs/fe5a1d914e8118ea/train_images (dataset.py:163)\u001b[0m\n",
      "\u001b[34;20m2025-04-02 18:09:23,722 - [fe5a1d914e8118ea] dataset_generator - INFO - DatasetSplit.TRAIN build complete. (dataset.py:181)\u001b[0m\n",
      "\u001b[34;20m2025-04-02 18:09:23,723 - [fe5a1d914e8118ea] dataset_generator - INFO - Creating DatasetSplit.VALIDATION from 201 samples. (dataset.py:171)\u001b[0m\n"
     ]
    },
    {
     "name": "stderr",
     "output_type": "stream",
     "text": [
      "2025-04-02 18:09:23.710979: I tensorflow/core/framework/local_rendezvous.cc:405] Local rendezvous is aborting with status: OUT_OF_RANGE: End of sequence\n"
     ]
    },
    {
     "name": "stdout",
     "output_type": "stream",
     "text": [
      "\u001b[34;20m2025-04-02 18:09:24,465 - [fe5a1d914e8118ea] dataset_generator - INFO - Saved 201 images for DatasetSplit.VALIDATION to outputs/fe5a1d914e8118ea/validation_images (dataset.py:163)\u001b[0m\n",
      "\u001b[34;20m2025-04-02 18:09:24,469 - [fe5a1d914e8118ea] dataset_generator - INFO - DatasetSplit.VALIDATION build complete. (dataset.py:181)\u001b[0m\n",
      "\u001b[34;20m2025-04-02 18:09:24,470 - [fe5a1d914e8118ea] dataset_generator - INFO - Creating DatasetSplit.TEST from 401 samples. (dataset.py:171)\u001b[0m\n"
     ]
    },
    {
     "name": "stderr",
     "output_type": "stream",
     "text": [
      "2025-04-02 18:09:24.464509: I tensorflow/core/framework/local_rendezvous.cc:405] Local rendezvous is aborting with status: OUT_OF_RANGE: End of sequence\n"
     ]
    },
    {
     "name": "stdout",
     "output_type": "stream",
     "text": [
      "\u001b[34;20m2025-04-02 18:09:25,643 - [fe5a1d914e8118ea] dataset_generator - INFO - Saved 401 images for DatasetSplit.TEST to outputs/fe5a1d914e8118ea/test_images (dataset.py:163)\u001b[0m\n",
      "\u001b[34;20m2025-04-02 18:09:25,647 - [fe5a1d914e8118ea] dataset_generator - INFO - DatasetSplit.TEST build complete. (dataset.py:181)\u001b[0m\n",
      "\u001b[34;20m2025-04-02 18:09:25,648 - [fe5a1d914e8118ea] dataset_generator - INFO - Dataset Preparation Complete for Exp 'fe5a1d914e8118ea' (dataset.py:212)\u001b[0m\n",
      "\u001b[34;20m2025-04-02 18:09:25,685 - [fe5a1d914e8118ea] model_trainer - INFO - Starting model building: input_shape=(64, 64, 3) (model.py:24)\u001b[0m\n",
      "\u001b[34;20m2025-04-02 18:09:26,334 - [fe5a1d914e8118ea] model_trainer - INFO - Completed model building: parameters=10,125,634 (model.py:45)\u001b[0m\n",
      "\u001b[34;20m2025-04-02 18:09:26,335 - [fe5a1d914e8118ea] model_trainer - INFO - Starting model training: epochs=3, batch_size=64. (model.py:59)\u001b[0m\n"
     ]
    },
    {
     "name": "stderr",
     "output_type": "stream",
     "text": [
      "WARNING: All log messages before absl::InitializeLog() is called are written to STDERR\n",
      "I0000 00:00:1743588568.670398  159530 service.cc:148] XLA service 0x7f9d00006800 initialized for platform CUDA (this does not guarantee that XLA will be used). Devices:\n",
      "I0000 00:00:1743588568.670431  159530 service.cc:156]   StreamExecutor device (0): NVIDIA GeForce RTX 3050 Laptop GPU, Compute Capability 8.6\n",
      "2025-04-02 18:09:28.707350: I tensorflow/compiler/mlir/tensorflow/utils/dump_mlir_util.cc:268] disabling MLIR crash reproducer, set env var `MLIR_CRASH_REPRODUCER_DIRECTORY` to enable.\n",
      "I0000 00:00:1743588568.992431  159530 cuda_dnn.cc:529] Loaded cuDNN version 90300\n"
     ]
    },
    {
     "name": "stdout",
     "output_type": "stream",
     "text": [
      "\u001b[33;20m2025-04-02 18:09:30,079 - [fe5a1d914e8118ea] feature_masker - WARNING - [364ed162] Skipping masking: no landmarks found (masker.py:160)\u001b[0m\n"
     ]
    },
    {
     "name": "stderr",
     "output_type": "stream",
     "text": [
      "E0000 00:00:1743588570.865434  159530 gpu_timer.cc:82] Delay kernel timed out: measured time has sub-optimal accuracy. There may be a missing warmup execution, please investigate in Nsight Systems.\n",
      "E0000 00:00:1743588572.494380  159530 gpu_timer.cc:82] Delay kernel timed out: measured time has sub-optimal accuracy. There may be a missing warmup execution, please investigate in Nsight Systems.\n",
      "E0000 00:00:1743588573.036280  159530 gpu_timer.cc:82] Delay kernel timed out: measured time has sub-optimal accuracy. There may be a missing warmup execution, please investigate in Nsight Systems.\n",
      "E0000 00:00:1743588573.294145  159530 gpu_timer.cc:82] Delay kernel timed out: measured time has sub-optimal accuracy. There may be a missing warmup execution, please investigate in Nsight Systems.\n",
      "E0000 00:00:1743588573.921089  159530 gpu_timer.cc:82] Delay kernel timed out: measured time has sub-optimal accuracy. There may be a missing warmup execution, please investigate in Nsight Systems.\n"
     ]
    },
    {
     "name": "stdout",
     "output_type": "stream",
     "text": [
      "\u001b[33;20m2025-04-02 18:09:35,078 - [fe5a1d914e8118ea] feature_masker - WARNING - [9cc2ce90] Skipping masking: no landmarks found (masker.py:160)\u001b[0m\n"
     ]
    },
    {
     "name": "stderr",
     "output_type": "stream",
     "text": [
      "E0000 00:00:1743588575.291471  159530 gpu_timer.cc:82] Delay kernel timed out: measured time has sub-optimal accuracy. There may be a missing warmup execution, please investigate in Nsight Systems.\n",
      "E0000 00:00:1743588576.869948  159530 gpu_timer.cc:82] Delay kernel timed out: measured time has sub-optimal accuracy. There may be a missing warmup execution, please investigate in Nsight Systems.\n",
      "E0000 00:00:1743588577.776505  159530 gpu_timer.cc:82] Delay kernel timed out: measured time has sub-optimal accuracy. There may be a missing warmup execution, please investigate in Nsight Systems.\n",
      "E0000 00:00:1743588578.230350  159530 gpu_timer.cc:82] Delay kernel timed out: measured time has sub-optimal accuracy. There may be a missing warmup execution, please investigate in Nsight Systems.\n",
      "E0000 00:00:1743588578.522782  159530 gpu_timer.cc:82] Delay kernel timed out: measured time has sub-optimal accuracy. There may be a missing warmup execution, please investigate in Nsight Systems.\n",
      "I0000 00:00:1743588580.449392  159530 device_compiler.h:188] Compiled cluster using XLA!  This line is logged at most once for the lifetime of the process.\n"
     ]
    },
    {
     "name": "stdout",
     "output_type": "stream",
     "text": [
      "\u001b[33;20m2025-04-02 18:09:42,793 - [fe5a1d914e8118ea] feature_masker - WARNING - [9e895700] Skipping masking: no landmarks found (masker.py:160)\u001b[0m\n"
     ]
    },
    {
     "name": "stderr",
     "output_type": "stream",
     "text": [
      "2025-04-02 18:09:57.636922: I tensorflow/core/framework/local_rendezvous.cc:405] Local rendezvous is aborting with status: OUT_OF_RANGE: End of sequence\n",
      "\t [[{{node IteratorGetNext}}]]\n",
      "2025-04-02 18:09:57.637000: I tensorflow/core/framework/local_rendezvous.cc:424] Local rendezvous recv item cancelled. Key hash: 11508399365922465488\n",
      "2025-04-02 18:09:57.637030: I tensorflow/core/framework/local_rendezvous.cc:424] Local rendezvous recv item cancelled. Key hash: 10298416663172767732\n",
      "2025-04-02 18:10:02.876104: I tensorflow/core/framework/local_rendezvous.cc:424] Local rendezvous recv item cancelled. Key hash: 11508399365922465488\n",
      "2025-04-02 18:10:02.876163: I tensorflow/core/framework/local_rendezvous.cc:424] Local rendezvous recv item cancelled. Key hash: 10298416663172767732\n",
      "2025-04-02 18:10:04.335585: I tensorflow/core/framework/local_rendezvous.cc:405] Local rendezvous is aborting with status: OUT_OF_RANGE: End of sequence\n",
      "\t [[{{node IteratorGetNext}}]]\n",
      "2025-04-02 18:10:04.335636: I tensorflow/core/framework/local_rendezvous.cc:424] Local rendezvous recv item cancelled. Key hash: 11508399365922465488\n",
      "2025-04-02 18:10:04.335658: I tensorflow/core/framework/local_rendezvous.cc:424] Local rendezvous recv item cancelled. Key hash: 10298416663172767732\n",
      "2025-04-02 18:10:04.408444: I tensorflow/core/framework/local_rendezvous.cc:424] Local rendezvous recv item cancelled. Key hash: 11508399365922465488\n",
      "2025-04-02 18:10:04.408498: I tensorflow/core/framework/local_rendezvous.cc:424] Local rendezvous recv item cancelled. Key hash: 10298416663172767732\n"
     ]
    },
    {
     "name": "stdout",
     "output_type": "stream",
     "text": [
      "\u001b[34;20m2025-04-02 18:10:05,946 - [fe5a1d914e8118ea] model_trainer - INFO - Completed model training: train_acc=0.9979, val_acc=0.4975 (model.py:69)\u001b[0m\n",
      "\u001b[34;20m2025-04-02 18:10:05,946 - [fe5a1d914e8118ea] runner - INFO - Processing test data for explanations (runner.py:123)\u001b[0m\n"
     ]
    },
    {
     "name": "stderr",
     "output_type": "stream",
     "text": [
      "2025-04-02 18:10:05.870868: I tensorflow/core/framework/local_rendezvous.cc:424] Local rendezvous recv item cancelled. Key hash: 11508399365922465488\n",
      "2025-04-02 18:10:05.870940: I tensorflow/core/framework/local_rendezvous.cc:424] Local rendezvous recv item cancelled. Key hash: 10298416663172767732\n",
      "2025-04-02 18:10:05.943420: I tensorflow/core/framework/local_rendezvous.cc:424] Local rendezvous recv item cancelled. Key hash: 11508399365922465488\n",
      "2025-04-02 18:10:05.943482: I tensorflow/core/framework/local_rendezvous.cc:424] Local rendezvous recv item cancelled. Key hash: 10298416663172767732\n"
     ]
    },
    {
     "name": "stdout",
     "output_type": "stream",
     "text": [
      "\u001b[34;20m2025-04-02 18:10:10,112 - [fe5a1d914e8118ea] visual_explainer - INFO - [24703e7a] No key features identified above threshold 0.3. (explainer.py:137)\u001b[0m\n",
      "\u001b[34;20m2025-04-02 18:10:10,521 - [fe5a1d914e8118ea] visual_explainer - INFO - [ddb66842] No key features identified above threshold 0.3. (explainer.py:137)\u001b[0m\n",
      "\u001b[34;20m2025-04-02 18:10:11,080 - [fe5a1d914e8118ea] visual_explainer - INFO - [4e7b5680] No key features identified above threshold 0.3. (explainer.py:137)\u001b[0m\n",
      "\u001b[34;20m2025-04-02 18:10:11,468 - [fe5a1d914e8118ea] visual_explainer - INFO - [eb161996] No key features identified above threshold 0.3. (explainer.py:137)\u001b[0m\n",
      "\u001b[34;20m2025-04-02 18:10:11,550 - [fe5a1d914e8118ea] visual_explainer - INFO - [c317fdae] No key features identified above threshold 0.3. (explainer.py:137)\u001b[0m\n",
      "\u001b[34;20m2025-04-02 18:10:12,170 - [fe5a1d914e8118ea] visual_explainer - INFO - [8bdfc2f5] No key features identified above threshold 0.3. (explainer.py:137)\u001b[0m\n",
      "\u001b[34;20m2025-04-02 18:10:12,251 - [fe5a1d914e8118ea] visual_explainer - INFO - [b8e2a38d] No key features identified above threshold 0.3. (explainer.py:137)\u001b[0m\n",
      "\u001b[34;20m2025-04-02 18:10:13,303 - [fe5a1d914e8118ea] visual_explainer - INFO - [cad02150] No key features identified above threshold 0.3. (explainer.py:137)\u001b[0m\n",
      "\u001b[34;20m2025-04-02 18:10:13,545 - [fe5a1d914e8118ea] visual_explainer - INFO - [68b5548f] No key features identified above threshold 0.3. (explainer.py:137)\u001b[0m\n",
      "\u001b[34;20m2025-04-02 18:10:14,406 - [fe5a1d914e8118ea] visual_explainer - INFO - [cfdad173] No key features identified above threshold 0.3. (explainer.py:137)\u001b[0m\n",
      "\u001b[34;20m2025-04-02 18:10:14,657 - [fe5a1d914e8118ea] visual_explainer - INFO - [f3005ae7] No key features identified above threshold 0.3. (explainer.py:137)\u001b[0m\n",
      "\u001b[34;20m2025-04-02 18:10:15,262 - [fe5a1d914e8118ea] visual_explainer - INFO - [007ffedd] No key features identified above threshold 0.3. (explainer.py:137)\u001b[0m\n",
      "\u001b[34;20m2025-04-02 18:10:16,000 - [fe5a1d914e8118ea] visual_explainer - INFO - [6e10e90d] No key features identified above threshold 0.3. (explainer.py:137)\u001b[0m\n",
      "\u001b[34;20m2025-04-02 18:10:16,762 - [fe5a1d914e8118ea] visual_explainer - INFO - [a22657c5] No key features identified above threshold 0.3. (explainer.py:137)\u001b[0m\n",
      "\u001b[34;20m2025-04-02 18:10:17,285 - [fe5a1d914e8118ea] visual_explainer - INFO - [431352dc] No key features identified above threshold 0.3. (explainer.py:137)\u001b[0m\n",
      "\u001b[34;20m2025-04-02 18:10:18,441 - [fe5a1d914e8118ea] visual_explainer - INFO - [89d9546c] No key features identified above threshold 0.3. (explainer.py:137)\u001b[0m\n",
      "\u001b[34;20m2025-04-02 18:10:19,247 - [fe5a1d914e8118ea] visual_explainer - INFO - [1b8eb7bb] No key features identified above threshold 0.3. (explainer.py:137)\u001b[0m\n",
      "\u001b[34;20m2025-04-02 18:10:20,797 - [fe5a1d914e8118ea] visual_explainer - INFO - [e3ccea88] No key features identified above threshold 0.3. (explainer.py:137)\u001b[0m\n",
      "\u001b[34;20m2025-04-02 18:10:22,975 - [fe5a1d914e8118ea] visual_explainer - INFO - [6010c628] No key features identified above threshold 0.3. (explainer.py:137)\u001b[0m\n",
      "\u001b[34;20m2025-04-02 18:10:24,104 - [fe5a1d914e8118ea] visual_explainer - INFO - [c658d6aa] No key features identified above threshold 0.3. (explainer.py:137)\u001b[0m\n",
      "\u001b[34;20m2025-04-02 18:10:24,351 - [fe5a1d914e8118ea] visual_explainer - INFO - [1cfa33ea] No key features identified above threshold 0.3. (explainer.py:137)\u001b[0m\n",
      "\u001b[34;20m2025-04-02 18:10:25,060 - [fe5a1d914e8118ea] visual_explainer - INFO - [90086217] No key features identified above threshold 0.3. (explainer.py:137)\u001b[0m\n",
      "\u001b[34;20m2025-04-02 18:10:25,158 - [fe5a1d914e8118ea] runner - INFO - Processed 320 test images (runner.py:135)\u001b[0m\n",
      "\u001b[34;20m2025-04-02 18:10:25,481 - [fe5a1d914e8118ea] visual_explainer - INFO - [2d378402] No key features identified above threshold 0.3. (explainer.py:137)\u001b[0m\n",
      "\u001b[34;20m2025-04-02 18:10:25,892 - [fe5a1d914e8118ea] visual_explainer - INFO - [1a01d6b2] No key features identified above threshold 0.3. (explainer.py:137)\u001b[0m\n",
      "\u001b[34;20m2025-04-02 18:10:26,040 - [fe5a1d914e8118ea] visual_explainer - INFO - [1983ba99] No key features identified above threshold 0.3. (explainer.py:137)\u001b[0m\n",
      "\u001b[34;20m2025-04-02 18:10:26,354 - [fe5a1d914e8118ea] visual_explainer - INFO - [a5d7b650] No key features identified above threshold 0.3. (explainer.py:137)\u001b[0m\n",
      "\u001b[34;20m2025-04-02 18:10:26,889 - [fe5a1d914e8118ea] visual_explainer - INFO - [bfe33584] No key features identified above threshold 0.3. (explainer.py:137)\u001b[0m\n",
      "\u001b[34;20m2025-04-02 18:10:27,203 - [fe5a1d914e8118ea] visual_explainer - INFO - [9a7dbcd7] No key features identified above threshold 0.3. (explainer.py:137)\u001b[0m\n",
      "\u001b[34;20m2025-04-02 18:10:28,366 - [fe5a1d914e8118ea] visual_explainer - INFO - [509f9f70] No key features identified above threshold 0.3. (explainer.py:137)\u001b[0m\n",
      "\u001b[34;20m2025-04-02 18:10:31,464 - [fe5a1d914e8118ea] visual_explainer - INFO - [d171b1a8] No key features identified above threshold 0.3. (explainer.py:137)\u001b[0m\n",
      "\u001b[34;20m2025-04-02 18:10:31,544 - [fe5a1d914e8118ea] visual_explainer - INFO - [09010edc] No key features identified above threshold 0.3. (explainer.py:137)\u001b[0m\n",
      "\u001b[34;20m2025-04-02 18:10:31,633 - [fe5a1d914e8118ea] visual_explainer - INFO - [0150913d] No key features identified above threshold 0.3. (explainer.py:137)\u001b[0m\n",
      "\u001b[34;20m2025-04-02 18:10:31,814 - [fe5a1d914e8118ea] runner - INFO - Completed processing 401 test images (runner.py:137)\u001b[0m\n",
      "\u001b[34;20m2025-04-02 18:10:31,815 - [fe5a1d914e8118ea] bias_analyzer - INFO - Starting bias analysis on 401 samples. (analyzer.py:112)\u001b[0m\n",
      "\u001b[34;20m2025-04-02 18:10:31,816 - [fe5a1d914e8118ea] bias_analyzer - INFO - Computing feature distributions based on key features. (analyzer.py:21)\u001b[0m\n",
      "\u001b[34;20m2025-04-02 18:10:31,819 - [fe5a1d914e8118ea] bias_analyzer - INFO - Computing performance metrics for MALE as Positive. (analyzer.py:58)\u001b[0m\n",
      "\u001b[34;20m2025-04-02 18:10:31,821 - [fe5a1d914e8118ea] bias_analyzer - INFO - Computing performance metrics for FEMALE as Positive. (analyzer.py:58)\u001b[0m\n",
      "\u001b[34;20m2025-04-02 18:10:31,823 - [fe5a1d914e8118ea] bias_analyzer - INFO - Computing overall bias scores. (analyzer.py:83)\u001b[0m\n",
      "\u001b[34;20m2025-04-02 18:10:31,824 - [fe5a1d914e8118ea] bias_analyzer - INFO - Bias analysis completed successfully. (analyzer.py:122)\u001b[0m\n",
      "\u001b[34;20m2025-04-02 18:10:31,824 - [fe5a1d914e8118ea] runner - INFO - Saving experiment results to JSON file (runner.py:146)\u001b[0m\n",
      "\u001b[34;20m2025-04-02 18:10:31,882 - [fe5a1d914e8118ea] runner - INFO - Saved results to outputs/fe5a1d914e8118ea/results_fe5a1d914e8118ea.json (runner.py:165)\u001b[0m\n",
      "\u001b[34;20m2025-04-02 18:10:31,883 - [fe5a1d914e8118ea] runner - INFO - Completed experiment run (runner.py:183)\u001b[0m\n"
     ]
    },
    {
     "name": "stderr",
     "output_type": "stream",
     "text": [
      "2025-04-02 18:10:31.813068: I tensorflow/core/framework/local_rendezvous.cc:405] Local rendezvous is aborting with status: OUT_OF_RANGE: End of sequence\n"
     ]
    }
   ],
   "source": [
    "from config import ArtifactSavingLevel, CoreConfig, DatasetConfig, Config, ModelConfig, OutputConfig\n",
    "from datatypes import DatasetSource, Feature, Gender\n",
    "from runner import ExperimentRunner\n",
    "\n",
    "core_config = CoreConfig(\n",
    "    target_male_proportion=0.5,\n",
    "    mask_gender=Gender.MALE,\n",
    "    mask_features=[Feature.LEFT_EYE, Feature.RIGHT_EYE],\n",
    "    mask_pixel_padding=3,\n",
    "    key_feature_threshold=0.3,\n",
    ")\n",
    "\n",
    "dataset_config = DatasetConfig(\n",
    "    source_name=DatasetSource.UTKFACE,\n",
    "    target_size=2000,\n",
    "    image_size=64,\n",
    "    use_grayscale=False,\n",
    ")\n",
    "\n",
    "model_config = ModelConfig(epochs=3)\n",
    "output_config = OutputConfig(artifact_level=ArtifactSavingLevel.FULL)\n",
    "\n",
    "config = Config(\n",
    "    core=core_config,\n",
    "    dataset=dataset_config,\n",
    "    model=model_config,\n",
    "    output=output_config,\n",
    ")\n",
    "\n",
    "runner = ExperimentRunner(config)\n",
    "result = runner.run_experiment()"
   ]
  }
 ],
 "metadata": {
  "kernelspec": {
   "display_name": ".venv",
   "language": "python",
   "name": "python3"
  },
  "language_info": {
   "codemirror_mode": {
    "name": "ipython",
    "version": 3
   },
   "file_extension": ".py",
   "mimetype": "text/x-python",
   "name": "python",
   "nbconvert_exporter": "python",
   "pygments_lexer": "ipython3",
   "version": "3.12.3"
  }
 },
 "nbformat": 4,
 "nbformat_minor": 2
}
