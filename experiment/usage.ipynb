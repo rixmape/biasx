{
 "cells": [
  {
   "cell_type": "code",
   "execution_count": 1,
   "metadata": {},
   "outputs": [
    {
     "name": "stderr",
     "output_type": "stream",
     "text": [
      "2025-04-02 12:09:42.107298: E external/local_xla/xla/stream_executor/cuda/cuda_fft.cc:477] Unable to register cuFFT factory: Attempting to register factory for plugin cuFFT when one has already been registered\n",
      "WARNING: All log messages before absl::InitializeLog() is called are written to STDERR\n",
      "E0000 00:00:1743566982.118503   73658 cuda_dnn.cc:8310] Unable to register cuDNN factory: Attempting to register factory for plugin cuDNN when one has already been registered\n",
      "E0000 00:00:1743566982.121545   73658 cuda_blas.cc:1418] Unable to register cuBLAS factory: Attempting to register factory for plugin cuBLAS when one has already been registered\n",
      "2025-04-02 12:09:42.133879: I tensorflow/core/platform/cpu_feature_guard.cc:210] This TensorFlow binary is optimized to use available CPU instructions in performance-critical operations.\n",
      "To enable the following instructions: AVX2 FMA, in other operations, rebuild TensorFlow with the appropriate compiler flags.\n",
      "libEGL warning: DRI3: Screen seems not DRI3 capable\n",
      "libEGL warning: DRI3: Screen seems not DRI3 capable\n",
      "MESA: error: ZINK: failed to choose pdev\n",
      "libEGL warning: egl: failed to create dri2 screen\n",
      "WARNING: All log messages before absl::InitializeLog() is called are written to STDERR\n",
      "I0000 00:00:1743566985.409556   73658 gl_context_egl.cc:85] Successfully initialized EGL. Major : 1 Minor: 5\n",
      "I0000 00:00:1743566985.425895   73737 gl_context.cc:369] GL version: 3.1 (OpenGL ES 3.1 Mesa 24.2.8-1ubuntu1~24.04.1), renderer: D3D12 (AMD Radeon(TM) Graphics)\n",
      "W0000 00:00:1743566985.426284   73658 face_landmarker_graph.cc:174] Sets FaceBlendshapesGraph acceleration to xnnpack by default.\n",
      "INFO: Created TensorFlow Lite XNNPACK delegate for CPU.\n",
      "W0000 00:00:1743566985.431985   73741 inference_feedback_manager.cc:114] Feedback manager requires a model with a single signature inference. Disabling support for feedback tensors.\n",
      "W0000 00:00:1743566985.445123   73752 inference_feedback_manager.cc:114] Feedback manager requires a model with a single signature inference. Disabling support for feedback tensors.\n"
     ]
    },
    {
     "name": "stdout",
     "output_type": "stream",
     "text": [
      "\u001b[34;20m2025-04-02 12:09:45,714 - experiment_runner - INFO - Starting execution of all defined experiments. (runner.py:212)\u001b[0m\n",
      "\u001b[34;20m2025-04-02 12:09:45,715 - experiment_runner - INFO - Unique experimental setups determined: 1 (runner.py:206)\u001b[0m\n",
      "\u001b[34;20m2025-04-02 12:09:45,716 - experiment_runner - INFO - *** Running Experiment 1/1 *** (runner.py:220)\u001b[0m\n",
      "\u001b[34;20m2025-04-02 12:09:45,716 - experiment_runner - INFO - --- Starting Experiment: prop_050_mask_none --- (runner.py:163)\u001b[0m\n",
      "\u001b[34;20m2025-04-02 12:09:45,717 - experiment_runner - INFO - Parameters: male_prop=0.5, feature_mask=None (runner.py:164)\u001b[0m\n",
      "\u001b[34;20m2025-04-02 12:09:45,717 - dataset_generator - INFO - Starting Dataset Preparation for Exp 'prop_050_mask_none' (dataset.py:225)\u001b[0m\n",
      "\u001b[34;20m2025-04-02 12:09:45,717 - dataset_generator - INFO - Downloading utkface dataset. (dataset.py:30)\u001b[0m\n",
      "\u001b[34;20m2025-04-02 12:09:46,230 - dataset_generator - INFO - Raw dataset loaded: 23705 rows. (dataset.py:37)\u001b[0m\n",
      "\u001b[34;20m2025-04-02 12:09:46,249 - dataset_generator - INFO - Processed dataset: 20487 rows remaining after filtering. (dataset.py:49)\u001b[0m\n",
      "\u001b[34;20m2025-04-02 12:09:46,258 - dataset_generator - INFO - Found 35 unique strata for sampling. (dataset.py:91)\u001b[0m\n",
      "\u001b[34;20m2025-04-02 12:09:46,261 - dataset_generator - INFO - Targeting 1000 from 10853 available male images. (dataset.py:74)\u001b[0m\n",
      "\u001b[34;20m2025-04-02 12:09:46,277 - dataset_generator - INFO - Targeting 1000 from 9634 available female images. (dataset.py:74)\u001b[0m\n",
      "\u001b[34;20m2025-04-02 12:09:46,290 - dataset_generator - INFO - Sampling complete. Final dataset size: 2005 (100.2% of target 2000). (dataset.py:109)\u001b[0m\n",
      "\u001b[34;20m2025-04-02 12:09:46,291 - dataset_generator - INFO - Splitting dataset into train, validation, and test sets. (dataset.py:209)\u001b[0m\n",
      "\u001b[34;20m2025-04-02 12:09:46,295 - dataset_generator - INFO - Actual splits: train=1403, validation=201, test=401. (dataset.py:215)\u001b[0m\n",
      "\u001b[34;20m2025-04-02 12:09:46,295 - dataset_generator - INFO - Creating train dataset from 1403 samples. (dataset.py:195)\u001b[0m\n"
     ]
    },
    {
     "name": "stderr",
     "output_type": "stream",
     "text": [
      "I0000 00:00:1743566986.621200   73658 gpu_device.cc:2022] Created device /job:localhost/replica:0/task:0/device:GPU:0 with 1767 MB memory:  -> device: 0, name: NVIDIA GeForce RTX 3050 Laptop GPU, pci bus id: 0000:01:00.0, compute capability: 8.6\n"
     ]
    },
    {
     "name": "stdout",
     "output_type": "stream",
     "text": [
      "\u001b[34;20m2025-04-02 12:09:52,536 - dataset_generator - INFO - Saved 1403 images for train dataset to outputs/prop_050_mask_none/train_images (dataset.py:185)\u001b[0m\n",
      "\u001b[34;20m2025-04-02 12:09:52,543 - dataset_generator - INFO - Train dataset build complete. (dataset.py:205)\u001b[0m\n",
      "\u001b[34;20m2025-04-02 12:09:52,543 - dataset_generator - INFO - Creating val dataset from 201 samples. (dataset.py:195)\u001b[0m\n"
     ]
    },
    {
     "name": "stderr",
     "output_type": "stream",
     "text": [
      "2025-04-02 12:09:52.535418: I tensorflow/core/framework/local_rendezvous.cc:405] Local rendezvous is aborting with status: OUT_OF_RANGE: End of sequence\n"
     ]
    },
    {
     "name": "stdout",
     "output_type": "stream",
     "text": [
      "\u001b[34;20m2025-04-02 12:09:53,020 - dataset_generator - INFO - Saved 201 images for val dataset to outputs/prop_050_mask_none/val_images (dataset.py:185)\u001b[0m\n",
      "\u001b[34;20m2025-04-02 12:09:53,024 - dataset_generator - INFO - Val dataset build complete. (dataset.py:205)\u001b[0m\n",
      "\u001b[34;20m2025-04-02 12:09:53,025 - dataset_generator - INFO - Creating test dataset from 401 samples. (dataset.py:195)\u001b[0m\n"
     ]
    },
    {
     "name": "stderr",
     "output_type": "stream",
     "text": [
      "2025-04-02 12:09:53.019873: I tensorflow/core/framework/local_rendezvous.cc:405] Local rendezvous is aborting with status: OUT_OF_RANGE: End of sequence\n"
     ]
    },
    {
     "name": "stdout",
     "output_type": "stream",
     "text": [
      "\u001b[34;20m2025-04-02 12:09:53,957 - dataset_generator - INFO - Saved 401 images for test dataset to outputs/prop_050_mask_none/test_images (dataset.py:185)\u001b[0m\n",
      "\u001b[34;20m2025-04-02 12:09:53,960 - dataset_generator - INFO - Test dataset build complete. (dataset.py:205)\u001b[0m\n",
      "\u001b[34;20m2025-04-02 12:09:53,961 - dataset_generator - INFO - Dataset Preparation Complete for Exp 'prop_050_mask_none' (dataset.py:239)\u001b[0m\n",
      "\u001b[34;20m2025-04-02 12:09:53,973 - experiment_runner - INFO - [prop_050_mask_none] Starting replicate 1/1. (runner.py:60)\u001b[0m\n",
      "\u001b[34;20m2025-04-02 12:09:53,974 - experiment_runner - INFO - Random seeds set to 42. (runner.py:51)\u001b[0m\n",
      "\u001b[34;20m2025-04-02 12:09:53,994 - model_trainer - INFO - Building CNN model architecture. (model.py:18)\u001b[0m\n",
      "\u001b[34;20m2025-04-02 12:09:54,558 - model_trainer - INFO - Model built successfully: 10,125,634 total parameters. (model.py:41)\u001b[0m\n",
      "\u001b[34;20m2025-04-02 12:09:54,559 - model_trainer - INFO - Training model for 3 epochs with batch size 64. (model.py:60)\u001b[0m\n"
     ]
    },
    {
     "name": "stderr",
     "output_type": "stream",
     "text": [
      "WARNING: All log messages before absl::InitializeLog() is called are written to STDERR\n",
      "I0000 00:00:1743566996.277507   73810 service.cc:148] XLA service 0x7f94a40139d0 initialized for platform CUDA (this does not guarantee that XLA will be used). Devices:\n",
      "I0000 00:00:1743566996.277536   73810 service.cc:156]   StreamExecutor device (0): NVIDIA GeForce RTX 3050 Laptop GPU, Compute Capability 8.6\n",
      "2025-04-02 12:09:56.567290: I tensorflow/compiler/mlir/tensorflow/utils/dump_mlir_util.cc:268] disabling MLIR crash reproducer, set env var `MLIR_CRASH_REPRODUCER_DIRECTORY` to enable.\n",
      "I0000 00:00:1743566997.915351   73810 cuda_dnn.cc:529] Loaded cuDNN version 90300\n",
      "I0000 00:00:1743567006.921094   73810 device_compiler.h:188] Compiled cluster using XLA!  This line is logged at most once for the lifetime of the process.\n"
     ]
    },
    {
     "name": "stdout",
     "output_type": "stream",
     "text": [
      "\u001b[34;20m2025-04-02 12:10:27,153 - model_trainer - INFO - Training completed: final train_acc=0.6679, final val_acc=0.6517 (model.py:70)\u001b[0m\n",
      "\u001b[34;20m2025-04-02 12:10:27,290 - experiment_runner - INFO - [prop_050_mask_none/rep1] Processing test data for predictions and explanations. (runner.py:128)\u001b[0m\n",
      "\u001b[34;20m2025-04-02 12:10:43,876 - experiment_runner - INFO - [prop_050_mask_none/rep1] Processed 320 test images... (runner.py:137)\u001b[0m\n",
      "\u001b[34;20m2025-04-02 12:10:49,124 - experiment_runner - INFO - [prop_050_mask_none/rep1] Completed processing 401 test images. (runner.py:139)\u001b[0m\n",
      "\u001b[34;20m2025-04-02 12:10:49,125 - bias_analyzer - INFO - Starting bias analysis on 401 samples. (analyzer.py:111)\u001b[0m\n",
      "\u001b[34;20m2025-04-02 12:10:49,125 - bias_analyzer - INFO - Computing feature distributions based on key features. (analyzer.py:20)\u001b[0m\n",
      "\u001b[34;20m2025-04-02 12:10:49,127 - bias_analyzer - INFO - Computing performance metrics for MALE as Positive. (analyzer.py:57)\u001b[0m\n",
      "\u001b[34;20m2025-04-02 12:10:49,128 - bias_analyzer - INFO - Computing performance metrics for FEMALE as Positive. (analyzer.py:57)\u001b[0m\n",
      "\u001b[34;20m2025-04-02 12:10:49,129 - bias_analyzer - INFO - Computing overall bias scores. (analyzer.py:82)\u001b[0m\n",
      "\u001b[34;20m2025-04-02 12:10:49,130 - bias_analyzer - INFO - Bias analysis completed successfully. (analyzer.py:121)\u001b[0m\n",
      "\u001b[34;20m2025-04-02 12:10:49,131 - experiment_runner - INFO - [prop_050_mask_none] Replicate 1 completed. (runner.py:144)\u001b[0m\n",
      "\u001b[34;20m2025-04-02 12:10:49,131 - experiment_runner - INFO - --- Experiment Completed: prop_050_mask_none --- (runner.py:185)\u001b[0m\n",
      "\u001b[34;20m2025-04-02 12:10:49,175 - experiment_runner - INFO - Saved cumulative results for 1 experiments to outputs/experiment_results_20250402_121049.json (runner.py:231)\u001b[0m\n",
      "\u001b[34;20m2025-04-02 12:10:49,175 - experiment_runner - INFO - *** All 1 experiments completed successfully. *** (runner.py:233)\u001b[0m\n",
      "\u001b[34;20m2025-04-02 12:10:49,218 - experiment_runner - INFO - Saved final results to outputs/experiment_results_final.json (runner.py:240)\u001b[0m\n",
      "Experiment run initiated.\n"
     ]
    },
    {
     "name": "stderr",
     "output_type": "stream",
     "text": [
      "2025-04-02 12:10:49.123749: I tensorflow/core/framework/local_rendezvous.cc:405] Local rendezvous is aborting with status: OUT_OF_RANGE: End of sequence\n"
     ]
    }
   ],
   "source": [
    "from config import ArtifactSavingLevel, CoreConfig, DatasetConfig, ExperimentsConfig, ModelConfig, OutputConfig\n",
    "from datatypes import DatasetSource, Feature, MaskDetails, Gender\n",
    "from runner import ExperimentRunner\n",
    "\n",
    "male_eyes_mask = MaskDetails(target_gender=Gender.MALE, target_features=[Feature.LEFT_EYE, Feature.RIGHT_EYE])\n",
    "\n",
    "core_config = CoreConfig(\n",
    "    replicate_count=1,\n",
    "    male_proportion_targets=[0.5],\n",
    "    # masking_configs=[male_eyes_mask],\n",
    "    mask_pixel_padding=3,\n",
    "    key_feature_threshold=0.3,\n",
    ")\n",
    "\n",
    "dataset_config = DatasetConfig(\n",
    "    source_name=DatasetSource.UTKFACE,\n",
    "    target_size=2000,\n",
    "    image_size=64,\n",
    "    use_grayscale=False,\n",
    ")\n",
    "\n",
    "model_config = ModelConfig(epochs=3)\n",
    "output_config = OutputConfig(artifact_level=ArtifactSavingLevel.FULL)\n",
    "\n",
    "config = ExperimentsConfig(\n",
    "    core=core_config,\n",
    "    dataset=dataset_config,\n",
    "    model=model_config,\n",
    "    output=output_config,\n",
    ")\n",
    "\n",
    "runner = ExperimentRunner(config)\n",
    "runner.run_all_experiments()\n",
    "\n",
    "print(\"Experiment run initiated.\")"
   ]
  }
 ],
 "metadata": {
  "kernelspec": {
   "display_name": ".venv",
   "language": "python",
   "name": "python3"
  },
  "language_info": {
   "codemirror_mode": {
    "name": "ipython",
    "version": 3
   },
   "file_extension": ".py",
   "mimetype": "text/x-python",
   "name": "python",
   "nbconvert_exporter": "python",
   "pygments_lexer": "ipython3",
   "version": "3.12.3"
  }
 },
 "nbformat": 4,
 "nbformat_minor": 2
}
