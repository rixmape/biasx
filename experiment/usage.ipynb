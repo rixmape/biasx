{
 "cells": [
  {
   "cell_type": "code",
   "execution_count": null,
   "metadata": {},
   "outputs": [],
   "source": [
    "from config import OutputLevel, CoreConfig, DatasetConfig, Config, ModelConfig, OutputConfig\n",
    "from datatypes import DatasetSource, Feature, Gender\n",
    "from runner import ExperimentRunner\n",
    "\n",
    "core_config = CoreConfig(\n",
    "    target_male_proportion=0.5,\n",
    "    mask_gender=Gender.MALE,\n",
    "    mask_features=[Feature.LEFT_EYE, Feature.RIGHT_EYE],\n",
    "    mask_pixel_padding=3,\n",
    "    key_feature_threshold=0.3,\n",
    ")\n",
    "\n",
    "dataset_config = DatasetConfig(\n",
    "    source_name=DatasetSource.UTKFACE,\n",
    "    target_size=2000,\n",
    "    image_size=64,\n",
    "    use_grayscale=False,\n",
    ")\n",
    "\n",
    "model_config = ModelConfig(epochs=3)\n",
    "output_config = OutputConfig(level=OutputLevel.FULL)\n",
    "\n",
    "config = Config(\n",
    "    core=core_config,\n",
    "    dataset=dataset_config,\n",
    "    model=model_config,\n",
    "    output=output_config,\n",
    ")"
   ]
  },
  {
   "cell_type": "code",
   "execution_count": null,
   "metadata": {},
   "outputs": [],
   "source": [
    "runner = ExperimentRunner(config)\n",
    "result = runner.run_experiment()"
   ]
  }
 ],
 "metadata": {
  "kernelspec": {
   "display_name": ".venv",
   "language": "python",
   "name": "python3"
  },
  "language_info": {
   "codemirror_mode": {
    "name": "ipython",
    "version": 3
   },
   "file_extension": ".py",
   "mimetype": "text/x-python",
   "name": "python",
   "nbconvert_exporter": "python",
   "pygments_lexer": "ipython3",
   "version": "3.12.3"
  }
 },
 "nbformat": 4,
 "nbformat_minor": 2
}
