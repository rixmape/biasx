{
 "cells": [
  {
   "cell_type": "markdown",
   "metadata": {},
   "source": [
    "# Sample Usage for BiasX Library"
   ]
  },
  {
   "cell_type": "code",
   "execution_count": null,
   "metadata": {},
   "outputs": [],
   "source": [
    "import os\n",
    "import warnings\n",
    "\n",
    "\n",
    "os.environ[\"TF_CPP_MIN_LOG_LEVEL\"] = \"3\"\n",
    "warnings.filterwarnings(\"ignore\")"
   ]
  },
  {
   "cell_type": "code",
   "execution_count": null,
   "metadata": {},
   "outputs": [],
   "source": [
    "from biasx import BiasAnalyzer\n",
    "from biasx.defaults import BaseConfig\n",
    "\n",
    "config: BaseConfig = {\n",
    "    \"model_path\": \"../tmp/identiface.h5\",\n",
    "    \"dataset_path\": \"../images/utkface\",\n",
    "    \"model_config\": {\n",
    "        \"image_width\": 48,\n",
    "        \"image_height\": 48,\n",
    "        \"color_mode\": \"L\",\n",
    "        \"single_channel\": True,\n",
    "        \"inverted_classes\": True,\n",
    "    },\n",
    "    \"explainer_config\": {\n",
    "        \"max_faces\": 1,\n",
    "        \"cam_method\": \"gradcam++\",\n",
    "        \"cutoff_percentile\": 90,\n",
    "        \"threshold_method\": \"niblack\",\n",
    "        \"overlap_threshold\": 0.2,\n",
    "        \"distance_metric\": \"euclidean\",\n",
    "        \"activation_maps_path\": \"../tmp/activation_maps\",\n",
    "    },\n",
    "    \"calculator_config\": {\n",
    "        \"ndigits\": 3,\n",
    "    },\n",
    "    \"dataset_config\": {\n",
    "        \"max_samples\": 100,\n",
    "        \"shuffle\": True,\n",
    "        \"seed\": 69,\n",
    "    },\n",
    "}\n",
    "\n",
    "analyzer = BiasAnalyzer(config)\n",
    "analysis = analyzer.analyze(output_path=\"../tmp/analysis.json\")"
   ]
  },
  {
   "cell_type": "code",
   "execution_count": null,
   "metadata": {},
   "outputs": [],
   "source": [
    "analysis.to_dict()"
   ]
  }
 ],
 "metadata": {
  "kernelspec": {
   "display_name": "venv",
   "language": "python",
   "name": "python3"
  },
  "language_info": {
   "codemirror_mode": {
    "name": "ipython",
    "version": 3
   },
   "file_extension": ".py",
   "mimetype": "text/x-python",
   "name": "python",
   "nbconvert_exporter": "python",
   "pygments_lexer": "ipython3",
   "version": "3.12.3"
  }
 },
 "nbformat": 4,
 "nbformat_minor": 2
}
