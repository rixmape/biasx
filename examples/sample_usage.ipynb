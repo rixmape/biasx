{
 "cells": [
  {
   "cell_type": "markdown",
   "metadata": {},
   "source": [
    "# Sample Usage for BiasX Library"
   ]
  },
  {
   "cell_type": "code",
   "execution_count": 1,
   "metadata": {},
   "outputs": [],
   "source": [
    "import os\n",
    "import warnings\n",
    "\n",
    "os.environ[\"TF_CPP_MIN_LOG_LEVEL\"] = \"3\"\n",
    "warnings.filterwarnings(\"ignore\")"
   ]
  },
  {
   "cell_type": "code",
   "execution_count": 2,
   "metadata": {},
   "outputs": [
    {
     "name": "stderr",
     "output_type": "stream",
     "text": [
      "WARNING:absl:Compiled the loaded model, but the compiled metrics have yet to be built. `model.compile_metrics` will be empty until you train or evaluate the model.\n",
      "WARNING:absl:Error in loading the saved optimizer state. As a result, your model is starting with a freshly initialized optimizer.\n"
     ]
    }
   ],
   "source": [
    "from biasx import BiasAnalyzer\n",
    "from biasx.config import Config\n",
    "\n",
    "config: Config = {\n",
    "    \"model\": {\n",
    "        \"path\": r\"C:\\Users\\Jerwin Glen\\OneDrive\\Documents\\thesis-it\\biasx\\modelsss\\identiface.h5\",\n",
    "        \"inverted_classes\": True,\n",
    "    },\n",
    "    \"dataset\": {\n",
    "        \"image_width\": 48,\n",
    "        \"image_height\": 48,\n",
    "        \"single_channel\": True,\n",
    "        \"color_mode\": \"L\",\n",
    "        \"max_samples\": 500,\n",
    "    },\n",
    "}\n",
    "\n",
    "analyzer = BiasAnalyzer(config)\n",
    "analysis = analyzer.analyze()"
   ]
  },
  {
   "cell_type": "code",
   "execution_count": 3,
   "metadata": {},
   "outputs": [
    {
     "data": {
      "text/plain": [
       "(0.063, 0.386)"
      ]
     },
     "execution_count": 3,
     "metadata": {},
     "output_type": "execute_result"
    }
   ],
   "source": [
    "analysis.disparity_scores.biasx, analysis.disparity_scores.equalized_odds"
   ]
  },
  {
   "cell_type": "code",
   "execution_count": 4,
   "metadata": {},
   "outputs": [
    {
     "data": {
      "text/plain": [
       "{<FacialFeature.CHIN: 'chin'>,\n",
       " <FacialFeature.FOREHEAD: 'forehead'>,\n",
       " <FacialFeature.LEFT_CHEEK: 'left_cheek'>,\n",
       " <FacialFeature.LEFT_EYE: 'left_eye'>,\n",
       " <FacialFeature.LEFT_EYEBROW: 'left_eyebrow'>,\n",
       " <FacialFeature.LIPS: 'lips'>,\n",
       " <FacialFeature.NOSE: 'nose'>,\n",
       " <FacialFeature.RIGHT_CHEEK: 'right_cheek'>,\n",
       " <FacialFeature.RIGHT_EYE: 'right_eye'>,\n",
       " <FacialFeature.RIGHT_EYEBROW: 'right_eyebrow'>,\n",
       " None}"
      ]
     },
     "execution_count": 4,
     "metadata": {},
     "output_type": "execute_result"
    }
   ],
   "source": [
    "{a_box.feature for e in analysis.explanations for a_box in e.activation_boxes}"
   ]
  }
 ],
 "metadata": {
  "kernelspec": {
   "display_name": "venv",
   "language": "python",
   "name": "python3"
  },
  "language_info": {
   "codemirror_mode": {
    "name": "ipython",
    "version": 3
   },
   "file_extension": ".py",
   "mimetype": "text/x-python",
   "name": "python",
   "nbconvert_exporter": "python",
   "pygments_lexer": "ipython3",
   "version": "3.12.3"
  }
 },
 "nbformat": 4,
 "nbformat_minor": 2
}
