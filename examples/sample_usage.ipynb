{
 "cells": [
  {
   "cell_type": "markdown",
   "metadata": {},
   "source": [
    "# Sample Usage for BiasX Library"
   ]
  },
  {
   "cell_type": "code",
   "execution_count": 5,
   "metadata": {},
   "outputs": [],
   "source": [
    "import os\n",
    "import warnings\n",
    "\n",
    "\n",
    "os.environ[\"TF_CPP_MIN_LOG_LEVEL\"] = \"3\"\n",
    "warnings.filterwarnings(\"ignore\")"
   ]
  },
  {
   "cell_type": "code",
   "execution_count": 6,
   "metadata": {},
   "outputs": [
    {
     "name": "stderr",
     "output_type": "stream",
     "text": [
      "WARNING:absl:Compiled the loaded model, but the compiled metrics have yet to be built. `model.compile_metrics` will be empty until you train or evaluate the model.\n",
      "WARNING:absl:Error in loading the saved optimizer state. As a result, your model is starting with a freshly initialized optimizer.\n",
      "I0000 00:00:1740482329.437185   20503 gl_context_egl.cc:85] Successfully initialized EGL. Major : 1 Minor: 5\n",
      "I0000 00:00:1740482329.451788   24434 gl_context.cc:369] GL version: 3.1 (OpenGL ES 3.1 Mesa 24.0.9-0ubuntu0.3), renderer: D3D12 (AMD Radeon(TM) Graphics)\n",
      "W0000 00:00:1740482329.452091   20503 face_landmarker_graph.cc:174] Sets FaceBlendshapesGraph acceleration to xnnpack by default.\n",
      "W0000 00:00:1740482329.457076   24436 inference_feedback_manager.cc:114] Feedback manager requires a model with a single signature inference. Disabling support for feedback tensors.\n",
      "W0000 00:00:1740482329.468112   24450 inference_feedback_manager.cc:114] Feedback manager requires a model with a single signature inference. Disabling support for feedback tensors.\n"
     ]
    }
   ],
   "source": [
    "from biasx import BiasAnalyzer\n",
    "from biasx.defaults import BaseConfig\n",
    "\n",
    "config: BaseConfig = {\n",
    "    \"model_path\": \"tmp/identiface.h5\",\n",
    "    \"dataset_path\": \"images/utkface\",\n",
    "    \"model_config\": {\n",
    "        \"image_width\": 48,\n",
    "        \"image_height\": 48,\n",
    "        \"color_mode\": \"L\",\n",
    "        \"single_channel\": True,\n",
    "        \"inverted_classes\": True,\n",
    "    },\n",
    "    \"explainer_config\": {\n",
    "        \"max_faces\": 1,\n",
    "        \"cam_method\": \"gradcam++\",\n",
    "        \"cutoff_percentile\": 90,\n",
    "        \"threshold_method\": \"niblack\",\n",
    "        \"overlap_threshold\": 0.2,\n",
    "        \"distance_metric\": \"euclidean\",\n",
    "        \"activation_maps_path\": \"tmp/activation_maps\",\n",
    "    },\n",
    "    \"calculator_config\": {\n",
    "        \"ndigits\": 3,\n",
    "    },\n",
    "    \"dataset_config\": {\n",
    "        \"max_samples\": 1,\n",
    "        \"shuffle\": True,\n",
    "        \"seed\": 69,\n",
    "    },\n",
    "}\n",
    "\n",
    "analyzer = BiasAnalyzer(config)\n",
    "analysis = analyzer.analyze(output_path=\"tmp/analysis.json\")"
   ]
  },
  {
   "cell_type": "code",
   "execution_count": 7,
   "metadata": {},
   "outputs": [
    {
     "data": {
      "text/plain": [
       "{'biasScore': 0.0,\n",
       " 'featureScores': {'left_eye': 0.0,\n",
       "  'right_eye': 0.0,\n",
       "  'nose': 0.0,\n",
       "  'lips': 0.0,\n",
       "  'left_cheek': 0.0,\n",
       "  'right_cheek': 0.0,\n",
       "  'chin': 0.0,\n",
       "  'forehead': 0.0,\n",
       "  'left_eyebrow': 0.0,\n",
       "  'right_eyebrow': 0.0},\n",
       " 'featureProbabilities': {'left_eye': {0: 0.0, 1: 0.0},\n",
       "  'right_eye': {0: 0.0, 1: 0.0},\n",
       "  'nose': {0: 0.0, 1: 0.0},\n",
       "  'lips': {0: 0.0, 1: 0.0},\n",
       "  'left_cheek': {0: 0.0, 1: 0.0},\n",
       "  'right_cheek': {0: 0.0, 1: 0.0},\n",
       "  'chin': {0: 0.0, 1: 0.0},\n",
       "  'forehead': {0: 0.0, 1: 0.0},\n",
       "  'left_eyebrow': {0: 0.0, 1: 0.0},\n",
       "  'right_eyebrow': {0: 0.0, 1: 0.0}},\n",
       " 'explanations': [{'imagePath': 'images/utkface/24_1_1_20170113011327776.jpg',\n",
       "   'trueGender': 1,\n",
       "   'predictedGender': 1,\n",
       "   'predictionConfidence': 0.5040947198867798,\n",
       "   'activationMapPath': 'tmp/activation_maps/24_1_1_20170113011327776.npz',\n",
       "   'activationBoxes': [{'minX': 0, 'minY': 0, 'maxX': 21, 'maxY': 9},\n",
       "    {'minX': 7, 'minY': 0, 'maxX': 30, 'maxY': 8},\n",
       "    {'minX': 26, 'minY': 6, 'maxX': 46, 'maxY': 25},\n",
       "    {'minX': 0, 'minY': 16, 'maxX': 22, 'maxY': 48},\n",
       "    {'minX': 3, 'minY': 23, 'maxX': 15, 'maxY': 47}],\n",
       "   'landmarkBoxes': [{'minX': 29,\n",
       "     'minY': 12,\n",
       "     'maxX': 37,\n",
       "     'maxY': 15,\n",
       "     'feature': 'left_eye'},\n",
       "    {'minX': 12, 'minY': 12, 'maxX': 19, 'maxY': 15, 'feature': 'right_eye'},\n",
       "    {'minX': 17, 'minY': 13, 'maxX': 29, 'maxY': 28, 'feature': 'nose'},\n",
       "    {'minX': 16, 'minY': 31, 'maxX': 33, 'maxY': 38, 'feature': 'lips'},\n",
       "    {'minX': 34, 'minY': 16, 'maxX': 47, 'maxY': 32, 'feature': 'left_cheek'},\n",
       "    {'minX': 9, 'minY': 12, 'maxX': 14, 'maxY': 32, 'feature': 'right_cheek'},\n",
       "    {'minX': 16, 'minY': 34, 'maxX': 37, 'maxY': 44, 'feature': 'chin'},\n",
       "    {'minX': 9, 'minY': -1, 'maxX': 43, 'maxY': 7, 'feature': 'forehead'},\n",
       "    {'minX': 27, 'minY': 5, 'maxX': 41, 'maxY': 9, 'feature': 'left_eyebrow'},\n",
       "    {'minX': 9,\n",
       "     'minY': 5,\n",
       "     'maxX': 18,\n",
       "     'maxY': 9,\n",
       "     'feature': 'right_eyebrow'}]}]}"
      ]
     },
     "execution_count": 7,
     "metadata": {},
     "output_type": "execute_result"
    }
   ],
   "source": [
    "analysis.to_dict()"
   ]
  }
 ],
 "metadata": {
  "kernelspec": {
   "display_name": "venv",
   "language": "python",
   "name": "python3"
  },
  "language_info": {
   "codemirror_mode": {
    "name": "ipython",
    "version": 3
   },
   "file_extension": ".py",
   "mimetype": "text/x-python",
   "name": "python",
   "nbconvert_exporter": "python",
   "pygments_lexer": "ipython3",
   "version": "3.12.3"
  }
 },
 "nbformat": 4,
 "nbformat_minor": 2
}
