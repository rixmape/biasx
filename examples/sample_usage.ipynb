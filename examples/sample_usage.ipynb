{
 "cells": [
  {
   "cell_type": "markdown",
   "metadata": {},
   "source": [
    "# Sample Usage for BiasX Library"
   ]
  },
  {
   "cell_type": "code",
   "execution_count": null,
   "metadata": {},
   "outputs": [],
   "source": [
    "import os\n",
    "import warnings\n",
    "\n",
    "\n",
    "os.environ[\"TF_CPP_MIN_LOG_LEVEL\"] = \"3\"\n",
    "warnings.filterwarnings(\"ignore\")"
   ]
  },
  {
   "cell_type": "code",
   "execution_count": null,
   "metadata": {},
   "outputs": [],
   "source": [
    "from biasx import BiasAnalyzer\n",
    "from biasx.defaults import BaseConfig\n",
    "\n",
    "config: BaseConfig = {\n",
    "    \"model_config\": {\n",
    "        \"path\": \"../tmp/identiface.h5\",\n",
    "        \"image_width\": 48,\n",
    "        \"image_height\": 48,\n",
    "        \"color_mode\": \"L\",\n",
    "        \"single_channel\": True,\n",
    "        \"inverted_classes\": True,\n",
    "    },\n",
    "    \"dataset_config\": {\n",
    "        \"path\": \"../images/utkface\",\n",
    "        \"max_samples\": 10,\n",
    "    },\n",
    "}\n",
    "\n",
    "analyzer = BiasAnalyzer(config)\n",
    "analysis = analyzer.analyze(output_path=\"../tmp/analysis.json\")"
   ]
  },
  {
   "cell_type": "code",
   "execution_count": null,
   "metadata": {},
   "outputs": [],
   "source": [
    "analysis.to_dict()"
   ]
  }
 ],
 "metadata": {
  "kernelspec": {
   "display_name": ".venv",
   "language": "python",
   "name": "python3"
  },
  "language_info": {
   "codemirror_mode": {
    "name": "ipython",
    "version": 3
   },
   "file_extension": ".py",
   "mimetype": "text/x-python",
   "name": "python",
   "nbconvert_exporter": "python",
   "pygments_lexer": "ipython3",
   "version": "3.12.3"
  }
 },
 "nbformat": 4,
 "nbformat_minor": 2
}
